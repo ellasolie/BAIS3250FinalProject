{
 "cells": [
  {
   "cell_type": "markdown",
   "id": "c09d897a-8698-4515-af91-1da954f9ec15",
   "metadata": {},
   "source": [
    "##### BAIS 3250 Project Proposal \n",
    "##### Book & IMDb Movie Data Integration\n",
    "###### May 9, 2025\n",
    "###### Ella Solie"
   ]
  },
  {
   "cell_type": "markdown",
   "id": "fc3a3954-90d7-493a-9301-5ee9fdebc9c4",
   "metadata": {},
   "source": [
    "###### Import libraries"
   ]
  },
  {
   "cell_type": "code",
   "execution_count": 2,
   "id": "72272bf1-7a11-45c9-acba-a06dbb5e76be",
   "metadata": {},
   "outputs": [],
   "source": [
    "import pandas as pd"
   ]
  },
  {
   "cell_type": "markdown",
   "id": "1bd7efab-f6c7-4eb3-aaeb-c9d8b99b3a76",
   "metadata": {},
   "source": [
    "###### Read in csv files to be integrated."
   ]
  },
  {
   "cell_type": "code",
   "execution_count": 5,
   "id": "b509866d-4004-458b-a239-62ab4cac30e6",
   "metadata": {},
   "outputs": [],
   "source": [
    "df_imdb = pd.read_csv('esolie_bais3250_project_webscrape_imdb.csv')\n",
    "df_books = pd.read_csv('Goodreadsbooks.csv')"
   ]
  },
  {
   "cell_type": "markdown",
   "id": "018dd967-5cdd-4c17-ab60-4049d527d5f8",
   "metadata": {},
   "source": [
    "###### Clean both datasets before integration. "
   ]
  },
  {
   "cell_type": "code",
   "execution_count": 8,
   "id": "adc5a8a0-f342-4153-b669-65cfc04192b6",
   "metadata": {},
   "outputs": [],
   "source": [
    "# Clean IMDb movie titles\n",
    "def clean_imdb_title(title):\n",
    "    title = str(title)\n",
    "    if '.' in title:\n",
    "        title = title.split('.', 1)[1].strip()  # Remove the number and period\n",
    "    return title \n",
    "\n",
    "# Clean Goodreads book titles \n",
    "def clean_book_title(title):\n",
    "    title = str(title)\n",
    "    if '(' in title:\n",
    "        title = title.split('(')[0].strip()  # Keep only  part before '('\n",
    "    return title  \n",
    "\n",
    "# Apply to both datasets\n",
    "df_imdb['Cleaned_Title'] = df_imdb['movie_title'].apply(clean_imdb_title)\n",
    "df_books['Cleaned_Title'] = df_books['title'].apply(clean_book_title)"
   ]
  },
  {
   "cell_type": "markdown",
   "id": "7c46e031-3ec0-48ee-9408-d500c6511b3c",
   "metadata": {},
   "source": [
    "###### Integrate & merge the dataframes. "
   ]
  },
  {
   "cell_type": "code",
   "execution_count": 11,
   "id": "265fc79b-d0b7-4843-a09e-a02bd304ad5d",
   "metadata": {},
   "outputs": [],
   "source": [
    "# Merge the two DataFrames on the cleaned title\n",
    "merged_df = pd.merge(df_imdb, df_books, how='inner', on='Cleaned_Title')"
   ]
  },
  {
   "cell_type": "markdown",
   "id": "a9053b14-8757-4d1f-92b6-f782ca6f9b7f",
   "metadata": {},
   "source": [
    "###### Rename and drop columns as necessary"
   ]
  },
  {
   "cell_type": "code",
   "execution_count": 14,
   "id": "1b866e68-82a5-4c31-a6fa-b06da75b2064",
   "metadata": {},
   "outputs": [],
   "source": [
    "# Drop the original title columns, but keep the Cleaned_Title\n",
    "merged_df = merged_df.drop(columns=['movie_title', 'title'])\n",
    "\n",
    "# Rename the columns\n",
    "merged_df = merged_df.rename(columns={\n",
    "    'Cleaned_Title' : 'title',\n",
    "    'average_rating': 'average_rating_book',\n",
    "    'authors': 'book_authors',\n",
    "    'ratings_count': 'ratings_count_book',\n",
    "    '  num_pages': 'num_pages_book',\n",
    "    'publication_date': 'publication_date_book',\n",
    "    'publisher': 'publisher_book'\n",
    "})\n",
    "\n",
    "# Delete unnecessary columns\n",
    "merged_df = merged_df.drop(columns=['bookID', 'isbn', 'isbn13', 'language_code', 'text_reviews_count', 'Unnamed: 12'])"
   ]
  },
  {
   "cell_type": "code",
   "execution_count": 16,
   "id": "fdae10e1-3639-4fa3-bbbb-94a2e75c126e",
   "metadata": {},
   "outputs": [
    {
     "name": "stdout",
     "output_type": "stream",
     "text": [
      "imdb_id                       object\n",
      "average_star_rating_movie    float64\n",
      "release_year_movie             int64\n",
      "vote_count_movie               int64\n",
      "duration_movie                object\n",
      "movie_rating                  object\n",
      "review_text                   object\n",
      "title                         object\n",
      "book_authors                  object\n",
      "average_rating_book          float64\n",
      "num_pages_book                 int64\n",
      "ratings_count_book             int64\n",
      "publication_date_book         object\n",
      "publisher_book                object\n",
      "dtype: object\n"
     ]
    }
   ],
   "source": [
    "# Convert data types to correct format\n",
    "merged_df['release_year_movie'] = merged_df['release_year_movie'].fillna(0).astype(int)\n",
    "merged_df['average_star_rating_movie'] = merged_df['average_star_rating_movie'].astype(float)\n",
    "merged_df['vote_count_movie'] = merged_df['vote_count_movie'].fillna(0).astype(int)\n",
    "merged_df['average_rating_book'] = merged_df['average_rating_book'].astype(float) \n",
    "merged_df['num_pages_book'] = merged_df['num_pages_book'].astype(int)  \n",
    "merged_df['ratings_count_book'] = merged_df['ratings_count_book'].astype(int)\n",
    "\n",
    "# Verify data types\n",
    "print(merged_df.dtypes)"
   ]
  },
  {
   "cell_type": "code",
   "execution_count": 18,
   "id": "baecb6b5-4e68-46fe-a5a0-3329f7b2734a",
   "metadata": {},
   "outputs": [
    {
     "name": "stdout",
     "output_type": "stream",
     "text": [
      "       imdb_id  average_star_rating_movie  release_year_movie  \\\n",
      "0    tt0068646                        9.2                1972   \n",
      "1    tt0414387                        7.8                2005   \n",
      "2    tt0332280                        7.8                2004   \n",
      "3    tt0281358                        7.3                2002   \n",
      "4    tt0480249                        7.2                2007   \n",
      "..         ...                        ...                 ...   \n",
      "144  tt0381061                        8.0                2006   \n",
      "145  tt0381061                        8.0                2006   \n",
      "146  tt0360556                        5.0                2018   \n",
      "147  tt0360556                        5.0                2018   \n",
      "148  tt0360556                        5.0                2018   \n",
      "\n",
      "     vote_count_movie duration_movie movie_rating  \\\n",
      "0             2100000         2h 55m            R   \n",
      "1              352000          2h 9m           PG   \n",
      "2              654000          2h 3m        PG-13   \n",
      "3              227000         1h 41m           PG   \n",
      "4              849000         1h 41m        PG-13   \n",
      "..                ...            ...          ...   \n",
      "144            717000         2h 24m        PG-13   \n",
      "145            717000         2h 24m        PG-13   \n",
      "146             24000         1h 40m          NaN   \n",
      "147             24000         1h 40m          NaN   \n",
      "148             24000         1h 40m          NaN   \n",
      "\n",
      "                                           review_text               title  \\\n",
      "0    It is now past 1 PM and I just finished watchi...       The Godfather   \n",
      "1    Back in 1995, the definitive version of &quot;...   Pride & Prejudice   \n",
      "2    My wife and I watched this movie when it was f...        The Notebook   \n",
      "3    This was one of the best films I&#39;ve seen l...  A Walk to Remember   \n",
      "4    If I could sum this movie up in one sentence, ...         I Am Legend   \n",
      "..                                                 ...                 ...   \n",
      "144  I distinctly remember the collective groan fro...       Casino Royale   \n",
      "145  I distinctly remember the collective groan fro...       Casino Royale   \n",
      "146  ...I&#39;ll keep this brief.Bradbury would not...      Fahrenheit 451   \n",
      "147  ...I&#39;ll keep this brief.Bradbury would not...      Fahrenheit 451   \n",
      "148  ...I&#39;ll keep this brief.Bradbury would not...      Fahrenheit 451   \n",
      "\n",
      "                                          book_authors  average_rating_book  \\\n",
      "0                Mario Puzo/Peter Bart/Robert Thompson                 4.37   \n",
      "1                             Jane Austen/Vivien Jones                 4.26   \n",
      "2                                      Nicholas Sparks                 4.09   \n",
      "3                                      Nicholas Sparks                 4.17   \n",
      "4                                     Richard Matheson                 4.07   \n",
      "..                                                 ...                  ...   \n",
      "144  Anthony Hern/Ian Fleming/Henry Gammidge/John M...                 3.70   \n",
      "145                                        Ian Fleming                 3.73   \n",
      "146                      Ray Bradbury/Christopher Hurt                 3.99   \n",
      "147                                       Ray Bradbury                 3.99   \n",
      "148                        Ray Bradbury/Alfredo Crespo                 3.99   \n",
      "\n",
      "     num_pages_book  ratings_count_book publication_date_book  \\\n",
      "0               448                 180               10/4/05   \n",
      "1               392                1821                9/1/05   \n",
      "2               214             1090603                7/5/04   \n",
      "3               240              555995                9/1/04   \n",
      "4               160               55751               1/21/99   \n",
      "..              ...                 ...                   ...   \n",
      "144              96                 110                6/1/05   \n",
      "145             188                  56               10/1/88   \n",
      "146               5                 483               11/1/05   \n",
      "147             186                5733                4/1/04   \n",
      "148             176                 580              11/29/04   \n",
      "\n",
      "               publisher_book  \n",
      "0        New American Library  \n",
      "1               Penguin Books  \n",
      "2                      Bantam  \n",
      "3    Grand Central Publishing  \n",
      "4                   Millenium  \n",
      "..                        ...  \n",
      "144               Titan Books  \n",
      "145                   Coronet  \n",
      "146     Blackstone Audiobooks  \n",
      "147                   Del Rey  \n",
      "148                Debolsillo  \n",
      "\n",
      "[149 rows x 14 columns]\n"
     ]
    }
   ],
   "source": [
    "print(merged_df)"
   ]
  },
  {
   "cell_type": "code",
   "execution_count": 20,
   "id": "00e0a7b2-f71d-4e5b-9e8d-fca0db2dbe76",
   "metadata": {},
   "outputs": [],
   "source": [
    "# Reorder columns\n",
    "column_order = [\n",
    "    'title', 'imdb_id', 'release_year_movie', 'movie_rating', 'duration_movie',\n",
    "    'average_star_rating_movie', 'vote_count_movie', 'review_text',\n",
    "    'book_authors', 'average_rating_book', 'num_pages_book', \n",
    "    'ratings_count_book', 'publication_date_book', 'publisher_book']\n",
    "\n",
    "merged_df = merged_df[column_order]\n",
    "\n",
    "# Remove duplicate rows\n",
    "merged_df = merged_df.drop_duplicates()\n",
    "merged_df = merged_df.drop_duplicates(subset=['title']) # near duplicates\n",
    "\n",
    "# Merge the dataframe\n",
    "merged_df.to_csv('merged_dataset.csv', index=False)"
   ]
  },
  {
   "cell_type": "code",
   "execution_count": 22,
   "id": "798bdbc7-80fe-4b30-96ef-91950d23a4a1",
   "metadata": {},
   "outputs": [
    {
     "name": "stdout",
     "output_type": "stream",
     "text": [
      "                title    imdb_id  release_year_movie movie_rating  \\\n",
      "0       The Godfather  tt0068646                1972            R   \n",
      "1   Pride & Prejudice  tt0414387                2005           PG   \n",
      "2        The Notebook  tt0332280                2004        PG-13   \n",
      "3  A Walk to Remember  tt0281358                2002           PG   \n",
      "4         I Am Legend  tt0480249                2007        PG-13   \n",
      "\n",
      "  duration_movie  average_star_rating_movie  vote_count_movie  \\\n",
      "0         2h 55m                        9.2           2100000   \n",
      "1          2h 9m                        7.8            352000   \n",
      "2          2h 3m                        7.8            654000   \n",
      "3         1h 41m                        7.3            227000   \n",
      "4         1h 41m                        7.2            849000   \n",
      "\n",
      "                                         review_text  \\\n",
      "0  It is now past 1 PM and I just finished watchi...   \n",
      "1  Back in 1995, the definitive version of &quot;...   \n",
      "2  My wife and I watched this movie when it was f...   \n",
      "3  This was one of the best films I&#39;ve seen l...   \n",
      "4  If I could sum this movie up in one sentence, ...   \n",
      "\n",
      "                            book_authors  average_rating_book  num_pages_book  \\\n",
      "0  Mario Puzo/Peter Bart/Robert Thompson                 4.37             448   \n",
      "1               Jane Austen/Vivien Jones                 4.26             392   \n",
      "2                        Nicholas Sparks                 4.09             214   \n",
      "3                        Nicholas Sparks                 4.17             240   \n",
      "4                       Richard Matheson                 4.07             160   \n",
      "\n",
      "   ratings_count_book publication_date_book            publisher_book  \n",
      "0                 180               10/4/05      New American Library  \n",
      "1                1821                9/1/05             Penguin Books  \n",
      "2             1090603                7/5/04                    Bantam  \n",
      "3              555995                9/1/04  Grand Central Publishing  \n",
      "4               55751               1/21/99                 Millenium  \n"
     ]
    }
   ],
   "source": [
    "# Display first few rows of the cleaned & integrated dataset to verify\n",
    "print(merged_df.head())"
   ]
  },
  {
   "cell_type": "markdown",
   "id": "a4bb7408-5962-4dc9-9cae-7308700f85bd",
   "metadata": {},
   "source": [
    "###### Save the integrated dataset"
   ]
  },
  {
   "cell_type": "code",
   "execution_count": 25,
   "id": "c574f784-4b06-49d2-8915-3e657d10f5f1",
   "metadata": {},
   "outputs": [],
   "source": [
    "merged_df.to_csv(\"esolie_bais3250_project_integrated.csv\", index=False, encoding='utf-8')"
   ]
  },
  {
   "cell_type": "code",
   "execution_count": 27,
   "id": "99209acd-59d0-40c9-bb05-6fc070f236bd",
   "metadata": {},
   "outputs": [
    {
     "name": "stdout",
     "output_type": "stream",
     "text": [
      "                  title    imdb_id  release_year_movie movie_rating  \\\n",
      "0         The Godfather  tt0068646                1972            R   \n",
      "1     Pride & Prejudice  tt0414387                2005           PG   \n",
      "2          The Notebook  tt0332280                2004        PG-13   \n",
      "3    A Walk to Remember  tt0281358                2002           PG   \n",
      "4           I Am Legend  tt0480249                2007        PG-13   \n",
      "..                  ...        ...                 ...          ...   \n",
      "134  The Princess Bride  tt0093779                1987           PG   \n",
      "136      Shutter Island  tt1130884                2010            R   \n",
      "137         Stand by Me  tt0092005                1986            R   \n",
      "138       Casino Royale  tt0061452                1967     Approved   \n",
      "146      Fahrenheit 451  tt0360556                2018          NaN   \n",
      "\n",
      "    duration_movie  average_star_rating_movie  vote_count_movie  \\\n",
      "0           2h 55m                        9.2           2100000   \n",
      "1            2h 9m                        7.8            352000   \n",
      "2            2h 3m                        7.8            654000   \n",
      "3           1h 41m                        7.3            227000   \n",
      "4           1h 41m                        7.2            849000   \n",
      "..             ...                        ...               ...   \n",
      "134         1h 38m                        8.0            466000   \n",
      "136         2h 18m                        8.2           1500000   \n",
      "137         1h 29m                        8.1            464000   \n",
      "138         2h 11m                        5.0             34000   \n",
      "146         1h 40m                        5.0             24000   \n",
      "\n",
      "                                           review_text  \\\n",
      "0    It is now past 1 PM and I just finished watchi...   \n",
      "1    Back in 1995, the definitive version of &quot;...   \n",
      "2    My wife and I watched this movie when it was f...   \n",
      "3    This was one of the best films I&#39;ve seen l...   \n",
      "4    If I could sum this movie up in one sentence, ...   \n",
      "..                                                 ...   \n",
      "134  A boy (Fred Savage) is home sick, and to his d...   \n",
      "136  I originally saw this film when it came out bu...   \n",
      "137  If you grew up in the world before WiFi, a hig...   \n",
      "138  Casino Royale has some outstanding elements. T...   \n",
      "146  ...I&#39;ll keep this brief.Bradbury would not...   \n",
      "\n",
      "                              book_authors  average_rating_book  \\\n",
      "0    Mario Puzo/Peter Bart/Robert Thompson                 4.37   \n",
      "1                 Jane Austen/Vivien Jones                 4.26   \n",
      "2                          Nicholas Sparks                 4.09   \n",
      "3                          Nicholas Sparks                 4.17   \n",
      "4                         Richard Matheson                 4.07   \n",
      "..                                     ...                  ...   \n",
      "134                        William Goldman                 4.26   \n",
      "136                          Dennis Lehane                 4.09   \n",
      "137                         Raynold Gideon                 4.32   \n",
      "138                            Ian Fleming                 3.73   \n",
      "146          Ray Bradbury/Christopher Hurt                 3.99   \n",
      "\n",
      "     num_pages_book  ratings_count_book publication_date_book  \\\n",
      "0               448                 180               10/4/05   \n",
      "1               392                1821                9/1/05   \n",
      "2               214             1090603                7/5/04   \n",
      "3               240              555995                9/1/04   \n",
      "4               160               55751               1/21/99   \n",
      "..              ...                 ...                   ...   \n",
      "134             456              703676               7/15/03   \n",
      "136             369              134985               4/27/04   \n",
      "137              96                1436                6/1/86   \n",
      "138             181               48961               8/27/02   \n",
      "146               5                 483               11/1/05   \n",
      "\n",
      "               publisher_book  \n",
      "0        New American Library  \n",
      "1               Penguin Books  \n",
      "2                      Bantam  \n",
      "3    Grand Central Publishing  \n",
      "4                   Millenium  \n",
      "..                        ...  \n",
      "134          Ballantine Books  \n",
      "136               HarperTorch  \n",
      "137   Columbia Pictures Pubns  \n",
      "138                   Penguin  \n",
      "146     Blackstone Audiobooks  \n",
      "\n",
      "[79 rows x 14 columns]\n"
     ]
    }
   ],
   "source": [
    "print(merged_df)"
   ]
  },
  {
   "cell_type": "code",
   "execution_count": null,
   "id": "d32eb131-914d-48c5-8695-d763c9ac243d",
   "metadata": {},
   "outputs": [],
   "source": []
  },
  {
   "cell_type": "code",
   "execution_count": null,
   "id": "edd6fb35-00cb-4b0c-9338-6373dc498b77",
   "metadata": {},
   "outputs": [],
   "source": []
  },
  {
   "cell_type": "code",
   "execution_count": null,
   "id": "02f3824b-b71a-45d3-adca-5d664ffc928c",
   "metadata": {},
   "outputs": [],
   "source": []
  }
 ],
 "metadata": {
  "kernelspec": {
   "display_name": "Python [conda env:base] *",
   "language": "python",
   "name": "conda-base-py"
  },
  "language_info": {
   "codemirror_mode": {
    "name": "ipython",
    "version": 3
   },
   "file_extension": ".py",
   "mimetype": "text/x-python",
   "name": "python",
   "nbconvert_exporter": "python",
   "pygments_lexer": "ipython3",
   "version": "3.12.7"
  }
 },
 "nbformat": 4,
 "nbformat_minor": 5
}
